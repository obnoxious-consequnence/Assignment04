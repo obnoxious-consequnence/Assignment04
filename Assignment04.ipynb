{
 "cells": [
  {
   "cell_type": "markdown",
   "metadata": {},
   "source": [
    "# Assignment 4 - Pandas\n",
    "This assignment is about data processing and plotting.\n",
    "\n",
    "## Obnoxious Consequence\n",
    "- Martin Snedvig Rasmussen\n",
    "- Michael Ejdal Lundsgaard\n",
    "- Morten Bokkenheuser-Bæhr\n"
   ]
  },
  {
   "cell_type": "markdown",
   "metadata": {},
   "source": [
    "## Use pandas dataframe with poverty data\n",
    "Use this source: https://data.worldbank.org/indicator/SI.POV.DDAY and extract the csv file in jupyter notebook.\n",
    "With the help of Pandas' DataFrame do the following\n",
    "1. Create a line graph showing the development in poverty over time in both Argentina, Ivory cost, USA. (be aware of the missing data in particular years)\n",
    "2. Find the 10 countries with the highest poverty rate, and plot the rates in a bar chart\n",
    "3. Show the development of absolute poverty in all the central american countries. Hand in:\n",
    "  1. A description of what graphical representation you think is best for this task\n",
    "    * See this page for inspiration: https://scipy-lectures.org/intro/matplotlib/matplotlib.html\n",
    "  2. The actual graphical representation in a Jupyter Notebook\n",
    "4. From the worldbank api, find one more interesting question you would like to ask. Hand in:\n",
    "  1. A description of why that question is interesting\n",
    "  2. A visualisation of the question in your Jupyter Notebook\n",
    "    * See this page for inspiration: https://scipy-lectures.org/intro/matplotlib/matplotlib.html\n"
   ]
  },
  {
   "cell_type": "markdown",
   "metadata": {},
   "source": [
    "## Downloading the file"
   ]
  },
  {
   "cell_type": "code",
   "execution_count": 2,
   "metadata": {
    "scrolled": true
   },
   "outputs": [
    {
     "name": "stdout",
     "output_type": "stream",
     "text": [
      "{'Date': 'Thu, 07 Mar 2019 10:56:28 GMT', 'Content-Type': 'application/zip', 'Content-Length': '18011', 'Connection': 'keep-alive', 'Content-Disposition': 'attachment; filename=API_SI.POV.DDAY_DS2_en_csv_v2_10474275.zip', 'X-Powered-By': 'ASP.NET', 'Set-Cookie': 'TS01fa65e4=01359ee9762d4bdcfa81535dcdd7367488028b67b3c828953ec3d691d0723e483be8d1a673; Path=/', 'Strict-Transport-Security': 'max-age=31536000; includeSubDomains', 'X-XSS-Protection': '1; mode=block', 'X-Content-Type-Options': 'nosniff', 'X-Frame-Options': 'deny'} \n",
      "\n",
      "Downloaded API_SI.POV.DDAY_DS2_en_csv_v2_10474275.zip \n",
      "\n",
      ".\\API_SI.POV.DDAY_DS2_en_csv_v2_10474275.csv\n"
     ]
    }
   ],
   "source": [
    "import pandas as pd\n",
    "import requests\n",
    "import zipfile\n",
    "from glob import glob\n",
    "\n",
    "url = 'http://api.worldbank.org/v2/en/indicator/SI.POV.DDAY?downloadformat=csv'\n",
    "\n",
    "response = requests.get(url)\n",
    "print(response.headers, \"\\n\")\n",
    "\n",
    "# --------------- Extracting Filename -------------------- #\n",
    "\n",
    "fname = response.headers['Content-Disposition'].split('=')[1]\n",
    "if response.ok:  # status_code == 200:\n",
    "    with open(fname, 'wb') as f:\n",
    "        f.write(response.content)\n",
    "print('Downloaded {}'.format(fname), \"\\n\")\n",
    "\n",
    "# --------------- Unpacking Zipfile -------------------- #\n",
    "\n",
    "zipfile.ZipFile(fname, 'r').extractall('.')\n",
    "\n",
    "# --------------- Finding the File -------------------- #\n",
    "\n",
    "local_file = glob('./*API_SI*.csv')[0]\n",
    "print(local_file)\n",
    "      \n",
    "# --------------- Reading the File -------------------- #\n",
    "      \n",
    "df = pd.read_csv(local_file,skiprows=4)"
   ]
  },
  {
   "cell_type": "markdown",
   "metadata": {},
   "source": [
    "## Part - 1"
   ]
  },
  {
   "cell_type": "code",
   "execution_count": 28,
   "metadata": {},
   "outputs": [
    {
     "name": "stdout",
     "output_type": "stream",
     "text": [
      "Populating the interactive namespace from numpy and matplotlib\n"
     ]
    },
    {
     "data": {
      "text/plain": [
       "Text(0, 0.5, 'Percentage')"
      ]
     },
     "execution_count": 28,
     "metadata": {},
     "output_type": "execute_result"
    },
    {
     "data": {
      "image/png": "[encoded data removed]",
      "text/plain": [
       "<Figure size 432x288 with 1 Axes>"
      ]
     },
     "metadata": {
      "needs_background": "light"
     },
     "output_type": "display_data"
    }
   ],
   "source": [
    "%pylab inline\n",
    "import matplotlib.pyplot as plt\n",
    "\n",
    "c_code_df=df[df['Country Name'].isin(['United States', 'Argentina', \"Cote d'Ivoire\"])]['Country Code']\n",
    "\n",
    "# Lists the data - try and print() it\n",
    "ts_df = df.iloc[c_code_df.index, 4:-1].T\n",
    "\n",
    "ts_df.ffill().plot()\n",
    "plt.legend([\"Argentina\",\"Cote d'Ivoire\",\"United States\"])\n",
    "plt.title(\"Percentage of poor\", fontsize=14)\n",
    "plt.xlabel(\"Year\", fontsize=10)\n",
    "plt.ylabel(\"Percentage\", fontsize=10)\n"
   ]
  },
  {
   "cell_type": "markdown",
   "metadata": {},
   "source": [
    "## Part - 2"
   ]
  },
  {
   "cell_type": "markdown",
   "metadata": {},
   "source": [
    "## Part - 3"
   ]
  },
  {
   "cell_type": "markdown",
   "metadata": {},
   "source": [
    "## Part - 4"
   ]
  }
 ],
 "metadata": {
  "kernelspec": {
   "display_name": "Python 3",
   "language": "python",
   "name": "python3"
  },
  "language_info": {
   "codemirror_mode": {
    "name": "ipython",
    "version": 3
   },
   "file_extension": ".py",
   "mimetype": "text/x-python",
   "name": "python",
   "nbconvert_exporter": "python",
   "pygments_lexer": "ipython3",
   "version": "3.7.1"
  }
 },
 "nbformat": 4,
 "nbformat_minor": 2
}
